{
 "cells": [
  {
   "cell_type": "code",
   "execution_count": null,
   "id": "bright-trustee",
   "metadata": {},
   "outputs": [],
   "source": [
    "##Supply data from WASDE\n",
    "wasde = pd.read_csv('WASDE.csv')\n",
    "wasde"
   ]
  },
  {
   "cell_type": "code",
   "execution_count": null,
   "id": "adopted-conjunction",
   "metadata": {},
   "outputs": [],
   "source": [
    "##Merge with main data\n",
    "zonal_stats_full_wasde=zonal_stats_full.merge(wasde,on=['month', 'year'])\n",
    "zonal_stats_full_wasde"
   ]
  },
  {
   "cell_type": "code",
   "execution_count": null,
   "id": "wound-wrist",
   "metadata": {},
   "outputs": [],
   "source": [
    "##Multiple Regression Supply-Weather\n",
    "Regression2 = mt.reg(zonal_stats_full_wasde, \"production\",{\"temp_difference_abs\", \"rain_difference_abs\"}, addcons=True)\n",
    "Regression2"
   ]
  }
 ],
 "metadata": {
  "kernelspec": {
   "display_name": "Python 3",
   "language": "python",
   "name": "python3"
  },
  "language_info": {
   "codemirror_mode": {
    "name": "ipython",
    "version": 3
   },
   "file_extension": ".py",
   "mimetype": "text/x-python",
   "name": "python",
   "nbconvert_exporter": "python",
   "pygments_lexer": "ipython3",
   "version": "3.8.5"
  }
 },
 "nbformat": 4,
 "nbformat_minor": 5
}
